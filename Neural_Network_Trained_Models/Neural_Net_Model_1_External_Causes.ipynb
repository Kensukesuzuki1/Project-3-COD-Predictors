{
 "cells": [
  {
   "cell_type": "markdown",
   "metadata": {},
   "source": [
    "# Install Dependent Libraries (Databricks)"
   ]
  },
  {
   "cell_type": "markdown",
   "metadata": {},
   "source": [
    "Note: If running this notebook in Databricks, you will need the following libraries. If these libraries are not installed on your Databricks Cluster, you can simply uncomment and run the following cell to install those libraries in the notebook before you import the dependencies.\n",
    "\n",
    "Libraries needed:\n",
    "- koalas\n",
    "- mlflow\n",
    "- tensorflow\n",
    "- imblearn"
   ]
  },
  {
   "cell_type": "code",
   "execution_count": null,
   "metadata": {},
   "outputs": [],
   "source": [
    "# dbutils.library.installPyPI(\"koalas\")\n",
    "# dbutils.library.installPyPI(\"mlflow\")\n",
    "# dbutils.library.installPyPI(\"tensorflow\")\n",
    "# dbutils.library.installPyPI(\"imblearn\")\n",
    "# dbutils.library.restartPython()"
   ]
  },
  {
   "cell_type": "markdown",
   "metadata": {},
   "source": [
    "# Import Dependencies"
   ]
  },
  {
   "cell_type": "code",
   "execution_count": 1,
   "metadata": {},
   "outputs": [],
   "source": [
    "# import databricks.koalas as ks\n",
    "import pandas as pd\n",
    "\n",
    "import numpy as np\n",
    "import gzip"
   ]
  },
  {
   "cell_type": "code",
   "execution_count": 2,
   "metadata": {},
   "outputs": [],
   "source": [
    "import mlflow.sklearn\n",
    "import mlflow.keras"
   ]
  },
  {
   "cell_type": "code",
   "execution_count": 3,
   "metadata": {},
   "outputs": [],
   "source": [
    "from sklearn.preprocessing import LabelEncoder, OneHotEncoder"
   ]
  },
  {
   "cell_type": "code",
   "execution_count": 4,
   "metadata": {
    "scrolled": true
   },
   "outputs": [],
   "source": [
    "from sklearn.model_selection import train_test_split"
   ]
  },
  {
   "cell_type": "code",
   "execution_count": 5,
   "metadata": {},
   "outputs": [],
   "source": [
    "from sklearn.preprocessing import StandardScaler\n",
    "\n",
    "from imblearn.under_sampling import RandomUnderSampler\n",
    "from imblearn.pipeline import make_pipeline as make_pipeline_imb\n",
    "from imblearn.metrics import classification_report_imbalanced"
   ]
  },
  {
   "cell_type": "code",
   "execution_count": 6,
   "metadata": {},
   "outputs": [],
   "source": [
    "import tensorflow as tf\n",
    "from tensorflow.keras import datasets, layers, models, utils\n",
    "\n",
    "# Create a Keras model that's compatible with scikit-learn\n",
    "from tensorflow.keras.callbacks import EarlyStopping\n",
    "from tensorflow.keras.wrappers.scikit_learn import KerasClassifier\n",
    "\n",
    "import pickle\n",
    "import tempfile\n",
    "from tensorflow.keras.models import Sequential, load_model, save_model, Model\n",
    "from tensorflow.keras.layers import Dense"
   ]
  },
  {
   "cell_type": "markdown",
   "metadata": {},
   "source": [
    "# Connect to the AWS S3 Mount and Read CSV (Databricks only)"
   ]
  },
  {
   "cell_type": "code",
   "execution_count": null,
   "metadata": {},
   "outputs": [],
   "source": [
    "# ACCESS_KEY = \"ENTER_YOUR_KEY_HERE\" # dbutils.secrets.get(scope = \"aws\", key = \"aws-access-key\")\n",
    "# SECRET_KEY = \"ENTER_YOUR_KEY_HERE\" # dbutils.secrets.get(scope = \"aws\", key = \"aws-secret-key\")\n",
    "# ENCODED_SECRET_KEY = SECRET_KEY.replace(\"/\", \"%2F\")\n",
    "# AWS_BUCKET_NAME = \"ENTER_YOUR_BUCKET_HERE\" #Or the bucket you saved your data to\n",
    "# MOUNT_NAME = \"mnt_s3\"\n",
    "# s3_uri = f\"s3a://{ACCESS_KEY}:{ENCODED_SECRET_KEY}@{AWS_BUCKET_NAME}\"\n",
    "# mount_uri = f\"/mnt/{MOUNT_NAME}\"\n",
    "# display(dbutils.fs.ls(mount_uri))"
   ]
  },
  {
   "cell_type": "code",
   "execution_count": null,
   "metadata": {},
   "outputs": [],
   "source": [
    "# # Read CSVs\n",
    "# df = pd.read_csv(\"/dbfs/mnt/%s/Project 3 Stuff/cod_clean.csv.gz\" % MOUNT_NAME, compression=\"gzip\")"
   ]
  },
  {
   "cell_type": "markdown",
   "metadata": {},
   "source": [
    "# Read the CSV (Local Jupyter Notebook only)"
   ]
  },
  {
   "cell_type": "code",
   "execution_count": 7,
   "metadata": {},
   "outputs": [],
   "source": [
    "# Read CSVs\n",
    "df = pd.read_csv(\"../data/cod_clean.csv.gz\", compression=\"gzip\")"
   ]
  },
  {
   "cell_type": "markdown",
   "metadata": {},
   "source": [
    "# Select your Features and Labels"
   ]
  },
  {
   "cell_type": "code",
   "execution_count": 8,
   "metadata": {},
   "outputs": [
    {
     "data": {
      "text/html": [
       "<div>\n",
       "<style scoped>\n",
       "    .dataframe tbody tr th:only-of-type {\n",
       "        vertical-align: middle;\n",
       "    }\n",
       "\n",
       "    .dataframe tbody tr th {\n",
       "        vertical-align: top;\n",
       "    }\n",
       "\n",
       "    .dataframe thead th {\n",
       "        text-align: right;\n",
       "    }\n",
       "</style>\n",
       "<table border=\"1\" class=\"dataframe\">\n",
       "  <thead>\n",
       "    <tr style=\"text-align: right;\">\n",
       "      <th></th>\n",
       "      <th>Education Level</th>\n",
       "      <th>Month of Death</th>\n",
       "      <th>Sex/Gender</th>\n",
       "      <th>Age Groups</th>\n",
       "      <th>Marital Status</th>\n",
       "      <th>Day of Week</th>\n",
       "      <th>Year</th>\n",
       "      <th>Cause of Death</th>\n",
       "      <th>Race</th>\n",
       "      <th>Hispanic Origin</th>\n",
       "      <th>Cause of Death Category</th>\n",
       "    </tr>\n",
       "  </thead>\n",
       "  <tbody>\n",
       "    <tr>\n",
       "      <th>0</th>\n",
       "      <td>8th grade or less</td>\n",
       "      <td>June</td>\n",
       "      <td>M</td>\n",
       "      <td>85 years and over</td>\n",
       "      <td>Married</td>\n",
       "      <td>Saturday</td>\n",
       "      <td>2005</td>\n",
       "      <td>All other forms of chronic ischemic heart dise...</td>\n",
       "      <td>White</td>\n",
       "      <td>Mexican</td>\n",
       "      <td>Diseases of the circulatory system</td>\n",
       "    </tr>\n",
       "    <tr>\n",
       "      <th>1</th>\n",
       "      <td>9 - 12th grade, no diploma</td>\n",
       "      <td>January</td>\n",
       "      <td>F</td>\n",
       "      <td>45 - 54 years</td>\n",
       "      <td>Married</td>\n",
       "      <td>Saturday</td>\n",
       "      <td>2005</td>\n",
       "      <td>Other chronic obstructive pulmonary disease</td>\n",
       "      <td>White</td>\n",
       "      <td>Non - Hispanic white</td>\n",
       "      <td>Diseases of the respiratory system</td>\n",
       "    </tr>\n",
       "    <tr>\n",
       "      <th>2</th>\n",
       "      <td>high school graduate or GED completed</td>\n",
       "      <td>January</td>\n",
       "      <td>F</td>\n",
       "      <td>65 - 74 years</td>\n",
       "      <td>Widowed</td>\n",
       "      <td>Sunday</td>\n",
       "      <td>2005</td>\n",
       "      <td>Of trachea, bronchus and lung</td>\n",
       "      <td>White</td>\n",
       "      <td>Non - Hispanic white</td>\n",
       "      <td>Neoplasms</td>\n",
       "    </tr>\n",
       "    <tr>\n",
       "      <th>3</th>\n",
       "      <td>high school graduate or GED completed</td>\n",
       "      <td>January</td>\n",
       "      <td>M</td>\n",
       "      <td>55 - 64 years</td>\n",
       "      <td>Married</td>\n",
       "      <td>Monday</td>\n",
       "      <td>2005</td>\n",
       "      <td>Intentional self-harm</td>\n",
       "      <td>White</td>\n",
       "      <td>Non - Hispanic white</td>\n",
       "      <td>External causes of morbidity and mortality</td>\n",
       "    </tr>\n",
       "    <tr>\n",
       "      <th>4</th>\n",
       "      <td>high school graduate or GED completed</td>\n",
       "      <td>January</td>\n",
       "      <td>M</td>\n",
       "      <td>75 - 84 years</td>\n",
       "      <td>Married</td>\n",
       "      <td>Sunday</td>\n",
       "      <td>2005</td>\n",
       "      <td>Stroke, not specified as hemorrhage or infarct...</td>\n",
       "      <td>White</td>\n",
       "      <td>Non - Hispanic white</td>\n",
       "      <td>Diseases of the circulatory system</td>\n",
       "    </tr>\n",
       "  </tbody>\n",
       "</table>\n",
       "</div>"
      ],
      "text/plain": [
       "                         Education Level Month of Death Sex/Gender  \\\n",
       "0                      8th grade or less           June          M   \n",
       "1             9 - 12th grade, no diploma        January          F   \n",
       "2  high school graduate or GED completed        January          F   \n",
       "3  high school graduate or GED completed        January          M   \n",
       "4  high school graduate or GED completed        January          M   \n",
       "\n",
       "          Age Groups Marital Status Day of Week  Year  \\\n",
       "0  85 years and over        Married    Saturday  2005   \n",
       "1      45 - 54 years        Married    Saturday  2005   \n",
       "2      65 - 74 years        Widowed      Sunday  2005   \n",
       "3      55 - 64 years        Married      Monday  2005   \n",
       "4      75 - 84 years        Married      Sunday  2005   \n",
       "\n",
       "                                      Cause of Death   Race  \\\n",
       "0  All other forms of chronic ischemic heart dise...  White   \n",
       "1       Other chronic obstructive pulmonary disease   White   \n",
       "2                     Of trachea, bronchus and lung   White   \n",
       "3                             Intentional self-harm   White   \n",
       "4  Stroke, not specified as hemorrhage or infarct...  White   \n",
       "\n",
       "        Hispanic Origin                     Cause of Death Category  \n",
       "0               Mexican          Diseases of the circulatory system  \n",
       "1  Non - Hispanic white          Diseases of the respiratory system  \n",
       "2  Non - Hispanic white                                   Neoplasms  \n",
       "3  Non - Hispanic white  External causes of morbidity and mortality  \n",
       "4  Non - Hispanic white          Diseases of the circulatory system  "
      ]
     },
     "execution_count": 8,
     "metadata": {},
     "output_type": "execute_result"
    }
   ],
   "source": [
    "# Drop unnecessary column\n",
    "df = df.drop(columns=\"ICD Code\")\n",
    "df.head()"
   ]
  },
  {
   "cell_type": "code",
   "execution_count": 9,
   "metadata": {},
   "outputs": [
    {
     "data": {
      "text/html": [
       "<div>\n",
       "<style scoped>\n",
       "    .dataframe tbody tr th:only-of-type {\n",
       "        vertical-align: middle;\n",
       "    }\n",
       "\n",
       "    .dataframe tbody tr th {\n",
       "        vertical-align: top;\n",
       "    }\n",
       "\n",
       "    .dataframe thead th {\n",
       "        text-align: right;\n",
       "    }\n",
       "</style>\n",
       "<table border=\"1\" class=\"dataframe\">\n",
       "  <thead>\n",
       "    <tr style=\"text-align: right;\">\n",
       "      <th></th>\n",
       "      <th>Education Level</th>\n",
       "      <th>Month of Death</th>\n",
       "      <th>Sex/Gender</th>\n",
       "      <th>Age Groups</th>\n",
       "      <th>Marital Status</th>\n",
       "      <th>Day of Week</th>\n",
       "      <th>Year</th>\n",
       "      <th>Cause of Death</th>\n",
       "      <th>Race</th>\n",
       "      <th>Hispanic Origin</th>\n",
       "      <th>Cause of Death Category</th>\n",
       "    </tr>\n",
       "  </thead>\n",
       "  <tbody>\n",
       "    <tr>\n",
       "      <th>0</th>\n",
       "      <td>8th grade or less</td>\n",
       "      <td>June</td>\n",
       "      <td>M</td>\n",
       "      <td>85 years and over</td>\n",
       "      <td>Married</td>\n",
       "      <td>Saturday</td>\n",
       "      <td>2005</td>\n",
       "      <td>All other forms of chronic ischemic heart dise...</td>\n",
       "      <td>White</td>\n",
       "      <td>Mexican</td>\n",
       "      <td>Diseases of the circulatory system</td>\n",
       "    </tr>\n",
       "    <tr>\n",
       "      <th>1</th>\n",
       "      <td>9 - 12th grade, no diploma</td>\n",
       "      <td>January</td>\n",
       "      <td>F</td>\n",
       "      <td>45 - 54 years</td>\n",
       "      <td>Married</td>\n",
       "      <td>Saturday</td>\n",
       "      <td>2005</td>\n",
       "      <td>Other chronic obstructive pulmonary disease</td>\n",
       "      <td>White</td>\n",
       "      <td>Non - Hispanic white</td>\n",
       "      <td>Diseases of the respiratory system</td>\n",
       "    </tr>\n",
       "    <tr>\n",
       "      <th>2</th>\n",
       "      <td>high school graduate or GED completed</td>\n",
       "      <td>January</td>\n",
       "      <td>F</td>\n",
       "      <td>65 - 74 years</td>\n",
       "      <td>Widowed</td>\n",
       "      <td>Sunday</td>\n",
       "      <td>2005</td>\n",
       "      <td>Of trachea, bronchus and lung</td>\n",
       "      <td>White</td>\n",
       "      <td>Non - Hispanic white</td>\n",
       "      <td>Neoplasms</td>\n",
       "    </tr>\n",
       "    <tr>\n",
       "      <th>3</th>\n",
       "      <td>high school graduate or GED completed</td>\n",
       "      <td>January</td>\n",
       "      <td>M</td>\n",
       "      <td>55 - 64 years</td>\n",
       "      <td>Married</td>\n",
       "      <td>Monday</td>\n",
       "      <td>2005</td>\n",
       "      <td>Intentional self-harm</td>\n",
       "      <td>White</td>\n",
       "      <td>Non - Hispanic white</td>\n",
       "      <td>External causes of morbidity and mortality</td>\n",
       "    </tr>\n",
       "    <tr>\n",
       "      <th>4</th>\n",
       "      <td>high school graduate or GED completed</td>\n",
       "      <td>January</td>\n",
       "      <td>M</td>\n",
       "      <td>75 - 84 years</td>\n",
       "      <td>Married</td>\n",
       "      <td>Sunday</td>\n",
       "      <td>2005</td>\n",
       "      <td>Stroke, not specified as hemorrhage or infarct...</td>\n",
       "      <td>White</td>\n",
       "      <td>Non - Hispanic white</td>\n",
       "      <td>Diseases of the circulatory system</td>\n",
       "    </tr>\n",
       "  </tbody>\n",
       "</table>\n",
       "</div>"
      ],
      "text/plain": [
       "                         Education Level Month of Death Sex/Gender  \\\n",
       "0                      8th grade or less           June          M   \n",
       "1             9 - 12th grade, no diploma        January          F   \n",
       "2  high school graduate or GED completed        January          F   \n",
       "3  high school graduate or GED completed        January          M   \n",
       "4  high school graduate or GED completed        January          M   \n",
       "\n",
       "          Age Groups Marital Status Day of Week  Year  \\\n",
       "0  85 years and over        Married    Saturday  2005   \n",
       "1      45 - 54 years        Married    Saturday  2005   \n",
       "2      65 - 74 years        Widowed      Sunday  2005   \n",
       "3      55 - 64 years        Married      Monday  2005   \n",
       "4      75 - 84 years        Married      Sunday  2005   \n",
       "\n",
       "                                      Cause of Death   Race  \\\n",
       "0  All other forms of chronic ischemic heart dise...  White   \n",
       "1       Other chronic obstructive pulmonary disease   White   \n",
       "2                     Of trachea, bronchus and lung   White   \n",
       "3                             Intentional self-harm   White   \n",
       "4  Stroke, not specified as hemorrhage or infarct...  White   \n",
       "\n",
       "        Hispanic Origin                     Cause of Death Category  \n",
       "0               Mexican          Diseases of the circulatory system  \n",
       "1  Non - Hispanic white          Diseases of the respiratory system  \n",
       "2  Non - Hispanic white                                   Neoplasms  \n",
       "3  Non - Hispanic white  External causes of morbidity and mortality  \n",
       "4  Non - Hispanic white          Diseases of the circulatory system  "
      ]
     },
     "execution_count": 9,
     "metadata": {},
     "output_type": "execute_result"
    }
   ],
   "source": [
    "# Drop the null columns where all values are null\n",
    "df = df.dropna(axis='columns', how='all')\n",
    "\n",
    "# Drop the null rows\n",
    "df = df.dropna()\n",
    "df.head()"
   ]
  },
  {
   "cell_type": "code",
   "execution_count": 10,
   "metadata": {},
   "outputs": [],
   "source": [
    "# Select desired features\n",
    "cleanup_df = df[[\"Cause of Death\", \"Cause of Death Category\", \"Year\", \"Month of Death\", \"Sex/Gender\",\n",
    "                        \"Marital Status\", \"Age Groups\", \"Education Level\", \"Race\"]]"
   ]
  },
  {
   "cell_type": "code",
   "execution_count": 11,
   "metadata": {},
   "outputs": [],
   "source": [
    "df2 = cleanup_df.loc[cleanup_df['Cause of Death Category'].isin(['Diseases of the nervous system','Neoplasms', 'Diseases of the respiratory system', 'External causes of morbidity and mortality'])]"
   ]
  },
  {
   "cell_type": "code",
   "execution_count": 12,
   "metadata": {},
   "outputs": [
    {
     "name": "stderr",
     "output_type": "stream",
     "text": [
      "C:\\Users\\kensu\\Anaconda3\\lib\\site-packages\\ipykernel_launcher.py:1: SettingWithCopyWarning: \n",
      "A value is trying to be set on a copy of a slice from a DataFrame.\n",
      "Try using .loc[row_indexer,col_indexer] = value instead\n",
      "\n",
      "See the caveats in the documentation: https://pandas.pydata.org/pandas-docs/stable/user_guide/indexing.html#returning-a-view-versus-a-copy\n",
      "  \"\"\"Entry point for launching an IPython kernel.\n"
     ]
    }
   ],
   "source": [
    "df2[\"Cause of Death Category\"] = 'Other'"
   ]
  },
  {
   "cell_type": "code",
   "execution_count": 13,
   "metadata": {},
   "outputs": [
    {
     "data": {
      "text/plain": [
       "Other    9078564\n",
       "Name: Cause of Death Category, dtype: int64"
      ]
     },
     "execution_count": 13,
     "metadata": {},
     "output_type": "execute_result"
    }
   ],
   "source": [
    "df2[\"Cause of Death Category\"].value_counts()"
   ]
  },
  {
   "cell_type": "code",
   "execution_count": 14,
   "metadata": {},
   "outputs": [],
   "source": [
    "df3 = cleanup_df.loc[(cleanup_df[\"Cause of Death Category\"] == \"Diseases of the circulatory system\")]"
   ]
  },
  {
   "cell_type": "code",
   "execution_count": 15,
   "metadata": {},
   "outputs": [
    {
     "data": {
      "text/plain": [
       "Diseases of the circulatory system    6276232\n",
       "Name: Cause of Death Category, dtype: int64"
      ]
     },
     "execution_count": 15,
     "metadata": {},
     "output_type": "execute_result"
    }
   ],
   "source": [
    "df3[\"Cause of Death Category\"].value_counts()"
   ]
  },
  {
   "cell_type": "code",
   "execution_count": 16,
   "metadata": {},
   "outputs": [],
   "source": [
    "df4 = pd.concat([df2, df3])"
   ]
  },
  {
   "cell_type": "code",
   "execution_count": 17,
   "metadata": {},
   "outputs": [],
   "source": [
    "# Select desired labels (5 causes of death, plus a \"control group\")\n",
    "cleanup_df = cleanup_df.loc[(cleanup_df[\"Cause of Death Category\"] == \"Other cerebrovascular diseases and their sequelae \") | \n",
    "                            (cleanup_df[\"Cause of Death Category\"] == \"All other diseases of respiratory system \") |\n",
    "                            (cleanup_df[\"Cause of Death Category\"] == \"External causes of morbidity and mortality\") |\n",
    "                            (cleanup_df[\"Cause of Death Category\"] == \"Alzheimer's disease \") |\n",
    "                            (cleanup_df[\"Cause of Death Category\"] == \"Diabetes mellitus \") |\n",
    "                            (cleanup_df[\"Cause of Death Category\"] == \"All other symptoms, signs and abnormal clinical and laboratory findings, not elsewhere classified \")\n",
    "                            ]\n",
    "cleanup_df = cleanup_df.reset_index(drop=True)"
   ]
  },
  {
   "cell_type": "code",
   "execution_count": null,
   "metadata": {},
   "outputs": [],
   "source": [
    "# Standardize values\n",
    "cleanup_df = cleanup_df.replace({\n",
    "    \"Endocrine, nutritional and metabolic diseases\": \"Diabetes mellitus\",\n",
    "    \"Diseases of the nervous system\": \"Alzheimer's Disease\",\n",
    "    \"Diseases of the circulatory system\": \"Cerebrovascular Diseases\",\n",
    "    \"Symptoms, signs and abnormal clinical and laboratory findings, not elsewhere classified\": \"Other\"\n",
    "})"
   ]
  },
  {
   "cell_type": "code",
   "execution_count": 18,
   "metadata": {},
   "outputs": [
    {
     "data": {
      "text/html": [
       "<div>\n",
       "<style scoped>\n",
       "    .dataframe tbody tr th:only-of-type {\n",
       "        vertical-align: middle;\n",
       "    }\n",
       "\n",
       "    .dataframe tbody tr th {\n",
       "        vertical-align: top;\n",
       "    }\n",
       "\n",
       "    .dataframe thead th {\n",
       "        text-align: right;\n",
       "    }\n",
       "</style>\n",
       "<table border=\"1\" class=\"dataframe\">\n",
       "  <thead>\n",
       "    <tr style=\"text-align: right;\">\n",
       "      <th></th>\n",
       "      <th>Cause of Death Category</th>\n",
       "      <th>Year</th>\n",
       "      <th>Month of Death</th>\n",
       "      <th>Sex/Gender</th>\n",
       "      <th>Marital Status</th>\n",
       "      <th>Age Groups</th>\n",
       "      <th>Education Level</th>\n",
       "      <th>Race</th>\n",
       "    </tr>\n",
       "  </thead>\n",
       "  <tbody>\n",
       "    <tr>\n",
       "      <th>1</th>\n",
       "      <td>Other</td>\n",
       "      <td>2005</td>\n",
       "      <td>January</td>\n",
       "      <td>F</td>\n",
       "      <td>Married</td>\n",
       "      <td>45 - 54 years</td>\n",
       "      <td>9 - 12th grade, no diploma</td>\n",
       "      <td>White</td>\n",
       "    </tr>\n",
       "    <tr>\n",
       "      <th>2</th>\n",
       "      <td>Other</td>\n",
       "      <td>2005</td>\n",
       "      <td>January</td>\n",
       "      <td>F</td>\n",
       "      <td>Widowed</td>\n",
       "      <td>65 - 74 years</td>\n",
       "      <td>high school graduate or GED completed</td>\n",
       "      <td>White</td>\n",
       "    </tr>\n",
       "    <tr>\n",
       "      <th>3</th>\n",
       "      <td>Other</td>\n",
       "      <td>2005</td>\n",
       "      <td>January</td>\n",
       "      <td>M</td>\n",
       "      <td>Married</td>\n",
       "      <td>55 - 64 years</td>\n",
       "      <td>high school graduate or GED completed</td>\n",
       "      <td>White</td>\n",
       "    </tr>\n",
       "    <tr>\n",
       "      <th>7</th>\n",
       "      <td>Other</td>\n",
       "      <td>2005</td>\n",
       "      <td>January</td>\n",
       "      <td>F</td>\n",
       "      <td>Widowed</td>\n",
       "      <td>85 years and over</td>\n",
       "      <td>some college credit, but no degree</td>\n",
       "      <td>White</td>\n",
       "    </tr>\n",
       "    <tr>\n",
       "      <th>11</th>\n",
       "      <td>Other</td>\n",
       "      <td>2005</td>\n",
       "      <td>January</td>\n",
       "      <td>F</td>\n",
       "      <td>Widowed</td>\n",
       "      <td>75 - 84 years</td>\n",
       "      <td>high school graduate or GED completed</td>\n",
       "      <td>White</td>\n",
       "    </tr>\n",
       "  </tbody>\n",
       "</table>\n",
       "</div>"
      ],
      "text/plain": [
       "   Cause of Death Category  Year Month of Death Sex/Gender Marital Status  \\\n",
       "1                    Other  2005        January          F        Married   \n",
       "2                    Other  2005        January          F        Widowed   \n",
       "3                    Other  2005        January          M        Married   \n",
       "7                    Other  2005        January          F        Widowed   \n",
       "11                   Other  2005        January          F        Widowed   \n",
       "\n",
       "           Age Groups                        Education Level   Race  \n",
       "1       45 - 54 years             9 - 12th grade, no diploma  White  \n",
       "2       65 - 74 years  high school graduate or GED completed  White  \n",
       "3       55 - 64 years  high school graduate or GED completed  White  \n",
       "7   85 years and over     some college credit, but no degree  White  \n",
       "11      75 - 84 years  high school graduate or GED completed  White  "
      ]
     },
     "execution_count": 18,
     "metadata": {},
     "output_type": "execute_result"
    }
   ],
   "source": [
    "# Arrange final columns\n",
    "selected_features = df4[[\"Cause of Death Category\", \"Year\", \"Month of Death\", \"Sex/Gender\",\n",
    "                        \"Marital Status\", \"Age Groups\", \"Education Level\", \"Race\"]]\n",
    "selected_features.head()"
   ]
  },
  {
   "cell_type": "code",
   "execution_count": null,
   "metadata": {},
   "outputs": [],
   "source": [
    "selected_features"
   ]
  },
  {
   "cell_type": "code",
   "execution_count": null,
   "metadata": {},
   "outputs": [],
   "source": [
    "# Print labels\n",
    "for x in selected_features[\"Cause of Death Category\"].unique():\n",
    "    print(x)"
   ]
  },
  {
   "cell_type": "markdown",
   "metadata": {},
   "source": [
    "# Select Labels for Test and Control Groups"
   ]
  },
  {
   "cell_type": "code",
   "execution_count": null,
   "metadata": {},
   "outputs": [],
   "source": [
    "selected_features = selected_features.loc[(cleanup_df[\"Cause of Death Category\"] == \"External causes of morbidity and mortality\"), \n",
    "                            (cleanup_df[\"Cause of Death Category\"] == \"All other diseases of respiratory system\"),\n",
    "                            (cleanup_df[\"Cause of Death Category\"] == \"External causes of morbidity and mortality\"),\n",
    "                            (cleanup_df[\"Cause of Death Category\"] == \"Alzheimer's disease\"),\n",
    "                            (cleanup_df[\"Cause of Death Category\"] == \"Diabetes mellitus\"),\n",
    "                            (cleanup_df[\"Cause of Death Category\"] == \"All other symptoms, signs and abnormal clinical and laboratory findings, not elsewhere classified\")]\n",
    "selected_features = selected_features.reset_index(drop=True)"
   ]
  },
  {
   "cell_type": "code",
   "execution_count": null,
   "metadata": {},
   "outputs": [],
   "source": [
    "selected_features"
   ]
  },
  {
   "cell_type": "markdown",
   "metadata": {},
   "source": [
    "# Preview Data Distribution by Features and Classes"
   ]
  },
  {
   "cell_type": "code",
   "execution_count": null,
   "metadata": {},
   "outputs": [],
   "source": [
    "cod = selected_features.groupby(\"Cause of Death Category\").count()\n",
    "cod.sort_values(by=\"Year\", ascending=False)"
   ]
  },
  {
   "cell_type": "code",
   "execution_count": null,
   "metadata": {},
   "outputs": [],
   "source": [
    "age = selected_features.groupby(\"Age Groups\").count()\n",
    "age.sort_values(by=\"Year\", ascending=False)"
   ]
  },
  {
   "cell_type": "code",
   "execution_count": null,
   "metadata": {},
   "outputs": [],
   "source": [
    "race = selected_features.groupby(\"Race\").count()\n",
    "race.sort_values(by=\"Year\", ascending=False)"
   ]
  },
  {
   "cell_type": "code",
   "execution_count": null,
   "metadata": {},
   "outputs": [],
   "source": [
    "selected_features[\"Marital Status\"].value_counts()"
   ]
  },
  {
   "cell_type": "code",
   "execution_count": 19,
   "metadata": {},
   "outputs": [],
   "source": [
    "selected_features = selected_features.drop(selected_features.index[selected_features['Marital Status'] == 'Marital Status unknown'])"
   ]
  },
  {
   "cell_type": "code",
   "execution_count": 20,
   "metadata": {},
   "outputs": [],
   "source": [
    "selected_features = selected_features.drop(selected_features.index[selected_features['Education Level'] == 'Unknown'])"
   ]
  },
  {
   "cell_type": "code",
   "execution_count": 21,
   "metadata": {},
   "outputs": [],
   "source": [
    "selected_features = selected_features.drop(selected_features.index[selected_features['Age Groups'] == 'Age not stated'])"
   ]
  },
  {
   "cell_type": "code",
   "execution_count": 31,
   "metadata": {},
   "outputs": [
    {
     "data": {
      "text/plain": [
       "White                        12851884\n",
       "Black                         1517056\n",
       "Asian or Pacific Islander      359199\n",
       "American Indian                 91015\n",
       "Name: Race, dtype: int64"
      ]
     },
     "execution_count": 31,
     "metadata": {},
     "output_type": "execute_result"
    }
   ],
   "source": [
    "selected_features[\"Race\"].value_counts()"
   ]
  },
  {
   "cell_type": "markdown",
   "metadata": {},
   "source": [
    "# Apply One-Hot Encoding"
   ]
  },
  {
   "cell_type": "code",
   "execution_count": 32,
   "metadata": {},
   "outputs": [],
   "source": [
    "label_encoder = LabelEncoder()\n",
    "onehotencoder = OneHotEncoder()"
   ]
  },
  {
   "cell_type": "markdown",
   "metadata": {},
   "source": [
    "### Encode X data (features)"
   ]
  },
  {
   "cell_type": "code",
   "execution_count": 33,
   "metadata": {},
   "outputs": [],
   "source": [
    "column_list = [\"Month of Death\", \"Age Groups\", \"Education Level\", \"Sex/Gender\", \"Marital Status\", \"Race\"]"
   ]
  },
  {
   "cell_type": "code",
   "execution_count": null,
   "metadata": {
    "scrolled": true
   },
   "outputs": [],
   "source": [
    "for column in column_list:\n",
    "    # Reshape column data; fit to the one-hot-encoder (expands columns)\n",
    "    X = onehotencoder.fit_transform(selected_features[column].values.reshape(-1,1)).toarray()\n",
    "    \n",
    "    # Send the one-hot-encoded information from that column to a new dataframe\n",
    "    dfOneHot = pd.DataFrame(X, columns = [column+str(int(i)) for i in range(X.shape[1])])\n",
    "    \n",
    "    # Merge the one-hot-encoded dataframe to the master dataframe\n",
    "    selected_features = selected_features.merge(dfOneHot, how=\"right\", right_index=True, left_index=True)\n",
    "    \n",
    "    # Drop the column selected (no longer needed)\n",
    "    selected_features = selected_features.drop([column], axis=1)\n",
    "\n",
    "selected_features.head()"
   ]
  },
  {
   "cell_type": "markdown",
   "metadata": {},
   "source": [
    "### Encode Y data (labels/categories)"
   ]
  },
  {
   "cell_type": "code",
   "execution_count": null,
   "metadata": {},
   "outputs": [],
   "source": [
    "selected_features[\"Cause of Death Category\"] = label_encoder.fit_transform(selected_features[\"Cause of Death Category\"])\n",
    "np.save('../Neural_Network_Trained_Models/saved_model/model_1_classes.npy', label_encoder.classes_)\n",
    "selected_features.head()"
   ]
  },
  {
   "cell_type": "markdown",
   "metadata": {},
   "source": [
    "### Select Data Values"
   ]
  },
  {
   "cell_type": "code",
   "execution_count": null,
   "metadata": {},
   "outputs": [],
   "source": [
    "X = selected_features.iloc[:, 1:45]\n",
    "y = selected_features.iloc[:, 0]"
   ]
  },
  {
   "cell_type": "markdown",
   "metadata": {},
   "source": [
    "# Create a Train Test Split"
   ]
  },
  {
   "cell_type": "code",
   "execution_count": null,
   "metadata": {},
   "outputs": [],
   "source": [
    "# split the data\n",
    "X_train, X_test, y_train, y_test = train_test_split(X, y, random_state=42)"
   ]
  },
  {
   "cell_type": "code",
   "execution_count": null,
   "metadata": {},
   "outputs": [],
   "source": [
    "# Perform Random Under Sampling and Standard Scaling\n",
    "data_transform = make_pipeline_imb(StandardScaler(), RandomUnderSampler())\n",
    "\n",
    "X_train_resample, y_train_resample = RandomUnderSampler().fit_resample(X_train, y_train)\n",
    "# X_train_resample = StandardScaler().fit_transform(X_train_resample)\n",
    "\n",
    "X_test_resample, y_test_resample = RandomUnderSampler().fit_resample(X_test, y_test)\n",
    "# X_test_resample = StandardScaler().fit_transform(X_test_resample)"
   ]
  },
  {
   "cell_type": "code",
   "execution_count": null,
   "metadata": {},
   "outputs": [],
   "source": [
    "X_train_resample"
   ]
  },
  {
   "cell_type": "markdown",
   "metadata": {},
   "source": [
    "# Make Keras Pickle-able"
   ]
  },
  {
   "cell_type": "markdown",
   "metadata": {},
   "source": [
    "Boiler plate code found at https://github.com/tensorflow/tensorflow/issues/34697"
   ]
  },
  {
   "cell_type": "code",
   "execution_count": null,
   "metadata": {},
   "outputs": [],
   "source": [
    "# Hotfix function\n",
    "def make_keras_picklable():\n",
    "    def __getstate__(self):\n",
    "        model_str = \"\"\n",
    "        with tempfile.NamedTemporaryFile(suffix='.hdf5', delete=True) as fd:\n",
    "            save_model(self, fd.name, overwrite=True)\n",
    "            model_str = fd.read()\n",
    "        d = {'model_str': model_str}\n",
    "        return d\n",
    "\n",
    "    def __setstate__(self, state):\n",
    "        with tempfile.NamedTemporaryFile(suffix='.hdf5', delete=True) as fd:\n",
    "            fd.write(state['model_str'])\n",
    "            fd.flush()\n",
    "            model = load_model(fd.name)\n",
    "        self.__dict__ = model.__dict__\n",
    "\n",
    "\n",
    "    cls = Model\n",
    "    cls.__getstate__ = __getstate__\n",
    "    cls.__setstate__ = __setstate__\n",
    "\n",
    "# Run the function\n",
    "make_keras_picklable()"
   ]
  },
  {
   "cell_type": "markdown",
   "metadata": {},
   "source": [
    "# Make a Keras Deep Learning Classifier"
   ]
  },
  {
   "cell_type": "code",
   "execution_count": null,
   "metadata": {},
   "outputs": [],
   "source": [
    "classifier = models.Sequential()\n",
    "number_inputs = 44\n",
    "first_hidden_layer = 60\n",
    "second_hidden_layer = 48\n",
    "third_hidden_layer = 36\n",
    "fourth_hidden_layer = 24\n",
    "fifth_hidden_layer = 12\n",
    "sixth_hidden_layer = 6\n",
    "number_classes = 2\n",
    "\n",
    "classifier.add(layers.Dense(units=first_hidden_layer, activation='relu', input_dim=number_inputs))\n",
    "classifier.add(layers.Dense(units=second_hidden_layer, activation='relu'))\n",
    "classifier.add(layers.Dense(units=third_hidden_layer, activation='relu'))\n",
    "classifier.add(layers.Dense(units=fourth_hidden_layer, activation='relu'))\n",
    "classifier.add(layers.Dense(units=fifth_hidden_layer, activation='relu'))\n",
    "classifier.add(layers.Dense(units=sixth_hidden_layer, activation='relu'))\n",
    "classifier.add(layers.Dense(units=number_classes, activation='relu'))\n",
    "classifier.compile(optimizer='adam', loss='categorical_hinge', metrics=['accuracy'])"
   ]
  },
  {
   "cell_type": "markdown",
   "metadata": {},
   "source": [
    "# Fit Model"
   ]
  },
  {
   "cell_type": "code",
   "execution_count": null,
   "metadata": {},
   "outputs": [],
   "source": [
    "classifier.fit(X_train_resample, y_train_resample, epochs=80)"
   ]
  },
  {
   "cell_type": "code",
   "execution_count": null,
   "metadata": {},
   "outputs": [],
   "source": [
    "classifier.summary()"
   ]
  },
  {
   "cell_type": "markdown",
   "metadata": {},
   "source": [
    "# Perform Predictions"
   ]
  },
  {
   "cell_type": "code",
   "execution_count": null,
   "metadata": {},
   "outputs": [],
   "source": [
    "results = classifier.evaluate(X_test_resample, y_test_resample)"
   ]
  },
  {
   "cell_type": "code",
   "execution_count": null,
   "metadata": {},
   "outputs": [],
   "source": [
    "print(f\"Model Accuracy: {results[1]*100}%\")"
   ]
  },
  {
   "cell_type": "code",
   "execution_count": null,
   "metadata": {},
   "outputs": [],
   "source": [
    "# Import User Input\n",
    "user_input = pd.read_csv(\"sample.csv\")"
   ]
  },
  {
   "cell_type": "code",
   "execution_count": null,
   "metadata": {},
   "outputs": [],
   "source": [
    "predictions = classifier.predict(user_input)\n",
    "predicted_class_num = classifier.predict_classes(user_input)\n",
    "predicted_class_string = label_encoder.inverse_transform(predicted_class_num)\n",
    "predicted_accuracy = predictions[0,1]*100"
   ]
  },
  {
   "cell_type": "code",
   "execution_count": null,
   "metadata": {},
   "outputs": [],
   "source": [
    "print(f\"Class: {predicted_class_num}\")\n",
    "print(f\"Class: {predicted_class_string}\")\n",
    "print(f\"Probability: {predicted_accuracy}\")"
   ]
  },
  {
   "cell_type": "code",
   "execution_count": null,
   "metadata": {},
   "outputs": [],
   "source": [
    "y_test_resample.head(10)"
   ]
  },
  {
   "cell_type": "markdown",
   "metadata": {},
   "source": [
    "# Save the Model"
   ]
  },
  {
   "cell_type": "code",
   "execution_count": null,
   "metadata": {},
   "outputs": [],
   "source": [
    "classifier.save(\"saved_model/Model_1_External_Causes.h5\")"
   ]
  },
  {
   "cell_type": "code",
   "execution_count": null,
   "metadata": {},
   "outputs": [],
   "source": [
    "External_Causes_Model = tf.keras.models.load_model(\"saved_model/Model_1_External_Causes.h5\")"
   ]
  },
  {
   "cell_type": "code",
   "execution_count": null,
   "metadata": {},
   "outputs": [],
   "source": [
    "test_df = pd.DataFrame(X_test_resample.iloc[0, :])\n",
    "test_df = test_df.T"
   ]
  },
  {
   "cell_type": "code",
   "execution_count": null,
   "metadata": {},
   "outputs": [],
   "source": [
    "X_test.iloc[0].T.to_csv(\"sample.csv\")"
   ]
  },
  {
   "cell_type": "code",
   "execution_count": null,
   "metadata": {},
   "outputs": [],
   "source": []
  }
 ],
 "metadata": {
  "kernelspec": {
   "display_name": "Python 3",
   "language": "python",
   "name": "python3"
  },
  "language_info": {
   "codemirror_mode": {
    "name": "ipython",
    "version": 3
   },
   "file_extension": ".py",
   "mimetype": "text/x-python",
   "name": "python",
   "nbconvert_exporter": "python",
   "pygments_lexer": "ipython3",
   "version": "3.7.6"
  },
  "name": "Neural_Net_Mortality_Data",
  "notebookId": 3690730584832149
 },
 "nbformat": 4,
 "nbformat_minor": 1
}

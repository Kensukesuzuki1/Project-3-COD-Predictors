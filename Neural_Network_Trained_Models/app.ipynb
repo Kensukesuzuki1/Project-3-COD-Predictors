{
 "cells": [
  {
   "cell_type": "code",
   "execution_count": 1,
   "metadata": {},
   "outputs": [],
   "source": [
    "import pandas as pd\n",
    "import numpy as np\n",
    "from datetime import datetime\n",
    "from flask import (\n",
    "    Flask,\n",
    "    render_template,\n",
    "    jsonify,\n",
    "    request,\n",
    "    redirect)\n",
    "import xgboost as xgb"
   ]
  },
  {
   "cell_type": "code",
   "execution_count": 2,
   "metadata": {},
   "outputs": [],
   "source": [
    "# Converts user education level input into a one-hot-encoded array\n",
    "def education_level_code(education_level):\n",
    "    # Define education levels and assign them to an index using a dictionary\n",
    "    education_levels = {\n",
    "        \"8th_grade\":0,\n",
    "        \"9_12\":1,\n",
    "        \"High_school\":6,\n",
    "        \"Some_college\":7,\n",
    "        \"Associate_degree\":2,\n",
    "        \"Bachelors_degree\":3,\n",
    "        \"Masters_degree\":5,\n",
    "        \"Doctorate\":4\n",
    "    }\n",
    "\n",
    "    # Create an array with the same length as the dictionary and fill it with 0's\n",
    "    education_level_array = [0 for x in range(len(education_levels))]\n",
    "\n",
    "    # Change the value of the correct education level to 1\n",
    "    education_level_array[education_levels[education_level]] = 1\n",
    "\n",
    "    return education_level_array"
   ]
  },
  {
   "cell_type": "code",
   "execution_count": 3,
   "metadata": {},
   "outputs": [],
   "source": [
    "# Gets current month and converts it into a one-hot-encoded array\n",
    "def month_code():\n",
    "    month_array = [0 for x in range(12)]\n",
    "    month_recode = [4,3,7,0,8,6,5,1,11,10,9,2]\n",
    "    current_month_index = datetime.today().month - 1\n",
    "    month_array[month_recode[current_month_index]] = 1\n",
    "    \n",
    "    return month_array"
   ]
  },
  {
   "cell_type": "code",
   "execution_count": 4,
   "metadata": {},
   "outputs": [],
   "source": [
    "# Converts user sex input into a one-hot-encoded array\n",
    "def sex_code(sex):\n",
    "    # Define sexes and assign them to an index using a dictionary\n",
    "    sexes = {\n",
    "        \"Male\":1,\n",
    "        \"Female\":0\n",
    "    }\n",
    "\n",
    "    # Create an array with the same length as the dictionary and fill it with 0's\n",
    "    sex_array = [0 for x in range(len(sexes))]\n",
    "\n",
    "    # Change the value of the correct sex to 1\n",
    "    sex_array[sexes[sex]] = 1\n",
    "\n",
    "    return sex_array"
   ]
  },
  {
   "cell_type": "code",
   "execution_count": 5,
   "metadata": {},
   "outputs": [],
   "source": [
    "# Converts user age input into a one-hot-encoded array\n",
    "def age_code(age_range):\n",
    "    # Define age ranges and assign them to an index using a dictionary\n",
    "    ages = {\n",
    "        \"1\": 10,\n",
    "        \"1_4\": 0,\n",
    "        \"5_14\":5,\n",
    "        \"15_24\":1,\n",
    "        \"25_34\":2,\n",
    "        \"35_44\":3,\n",
    "        \"45_54\":4,\n",
    "        \"55_64\":6,\n",
    "        \"65_74\":7,\n",
    "        \"75_84\":8,\n",
    "        \"85_over\":9\n",
    "    }\n",
    "\n",
    "    # Create an array with the same length as the dictionary and fill it with 0's\n",
    "    age_array = [0 for x in range(len(ages))]\n",
    "\n",
    "    # Change the value of the correct age to 1\n",
    "    age_array[ages[age_range]] = 1\n",
    "\n",
    "    return age_array"
   ]
  },
  {
   "cell_type": "code",
   "execution_count": 6,
   "metadata": {},
   "outputs": [],
   "source": [
    "# Converts user marital status input into a one-hot-encoded array\n",
    "def marital_status_code(marital_status):\n",
    "    # Define marital statuses and assign them to an index using a dictionary\n",
    "    marital_statuses = {\n",
    "        \"Married\":1,\n",
    "        \"Widowed\":3,\n",
    "        \"Divorced\":0,\n",
    "        \"Single\":2\n",
    "    }\n",
    "\n",
    "    # Create an array with the same length as the dictionary and fill it with 0's\n",
    "    marital_status_array = [0 for x in range(len(marital_statuses))]\n",
    "\n",
    "    # Change the value of the correct marital stauts to 1\n",
    "    marital_status_array[marital_statuses[marital_status]] = 1\n",
    "\n",
    "    return marital_status_array"
   ]
  },
  {
   "cell_type": "code",
   "execution_count": 7,
   "metadata": {},
   "outputs": [],
   "source": [
    "# Gets current day and converts it into a one-hot-encoded array\n",
    "def day_code():\n",
    "    day_array = [0 for x in range(7)]\n",
    "    day_recode = [1,5,6,4,0,2,3]\n",
    "    current_day_index = datetime.today().weekday()\n",
    "    day_array[day_recode[current_day_index]] = 1\n",
    "    \n",
    "    return day_array"
   ]
  },
  {
   "cell_type": "code",
   "execution_count": 8,
   "metadata": {},
   "outputs": [],
   "source": [
    "# Converts user race input into a one-hot-encoded array\n",
    "def race_code(race):\n",
    "    # Define races and assign them to an index using a dictionary\n",
    "    races = {\n",
    "        \"White\":3,\n",
    "        \"Black\":2,\n",
    "        \"Asian\":1,\n",
    "        \"American_Indian\":0\n",
    "    }\n",
    "\n",
    "    # Create an array with the same length as the dictionary and fill it with 0's\n",
    "    race_array = [0 for x in range(len(races))]\n",
    "    \n",
    "    # Change the value of the correct race to 1\n",
    "    race_array[races[race]] = 1\n",
    "\n",
    "    return race_array"
   ]
  },
  {
   "cell_type": "code",
   "execution_count": 9,
   "metadata": {},
   "outputs": [],
   "source": [
    "# Converts user race input into a one-hot-encoded array\n",
    "def hispanic_code(hispanic):\n",
    "    # Define hispanic_origins and assign them to an index using a dictionary\n",
    "    hispanic_origins = {\n",
    "        \"Central or South American\":0,\n",
    "        \"Cuban\":1,\n",
    "        \"Mexican\":2,\n",
    "        \"Non-Hispanic black\":3,\n",
    "        \"Non-Hispanic other races\":4,\n",
    "        \"Non-Hispanic white\":5,\n",
    "        \"Other or unknown Hispanic\":6,\n",
    "        \"Puerto Rican\":7\n",
    "    }\n",
    "\n",
    "    # Create an array with the same length as the dictionary and fill it with 0's\n",
    "    hispanic_array = [0 for x in range(len(hispanic_origins))]\n",
    "    \n",
    "    # Change the value of the correct race to 1\n",
    "    hispanic_array[hispanic_origins[hispanic]] = 1\n",
    "\n",
    "    return hispanic_array"
   ]
  },
  {
   "cell_type": "code",
   "execution_count": 21,
   "metadata": {},
   "outputs": [],
   "source": [
    "def run_model(education_level, sex, age, marital_status, race, hispanic_origin, model_path):\n",
    "    bst = xgb.XGBClassifier()\n",
    "    bst.load_model(model_path)\n",
    "\n",
    "    input_list = education_level_code(education_level) + month_code() + sex_code(sex) + age_code(age) \\\n",
    "                + marital_status_code(marital_status) + day_code() + race_code(race) + hispanic_code(hispanic_origin)\n",
    "    df = pd.DataFrame([input_list])\n",
    "    prediction = bst.predict(df.values)\n",
    "    return prediction"
   ]
  },
  {
   "cell_type": "code",
   "execution_count": 22,
   "metadata": {},
   "outputs": [
    {
     "name": "stdout",
     "output_type": "stream",
     "text": [
      "[15:16:11] WARNING: C:\\Users\\Administrator\\workspace\\xgboost-win64_release_1.2.0\\src\\learner.cc:764: Loading model from XGBoost < 1.0.0, consider saving it again for improved compatibility\n"
     ]
    }
   ],
   "source": [
    "education = 'Bachelors_degree'\n",
    "sex = 'Male'\n",
    "age = '65_74'\n",
    "marital = 'Divorced'\n",
    "race = 'Black'\n",
    "hispanic = 'Cuban'\n",
    "model = 'binary_global.model'\n",
    "predict = run_model(education, sex, age, marital, race, hispanic, model)"
   ]
  },
  {
   "cell_type": "code",
   "execution_count": 23,
   "metadata": {},
   "outputs": [
    {
     "data": {
      "text/plain": [
       "{'Probability': 0.5263067}"
      ]
     },
     "execution_count": 23,
     "metadata": {},
     "output_type": "execute_result"
    }
   ],
   "source": [
    "predict"
   ]
  },
  {
   "cell_type": "code",
   "execution_count": 27,
   "metadata": {},
   "outputs": [
    {
     "data": {
      "text/plain": [
       "['Diseases of the circulatory system',\n",
       " 'Diseases of the nervous system',\n",
       " 'Neoplasms']"
      ]
     },
     "execution_count": 27,
     "metadata": {},
     "output_type": "execute_result"
    }
   ],
   "source": [
    "diseases = ['Diseases of the circulatory system','Diseases of the nervous system','Neoplasms']\n",
    "diseases.sort()\n",
    "diseases"
   ]
  },
  {
   "cell_type": "code",
   "execution_count": null,
   "metadata": {},
   "outputs": [],
   "source": []
  }
 ],
 "metadata": {
  "kernelspec": {
   "display_name": "Python 3",
   "language": "python",
   "name": "python3"
  },
  "language_info": {
   "codemirror_mode": {
    "name": "ipython",
    "version": 3
   },
   "file_extension": ".py",
   "mimetype": "text/x-python",
   "name": "python",
   "nbconvert_exporter": "python",
   "pygments_lexer": "ipython3",
   "version": "3.7.6"
  }
 },
 "nbformat": 4,
 "nbformat_minor": 4
}
